{
 "cells": [
  {
   "cell_type": "markdown",
   "metadata": {},
   "source": [
    "## Un asteroide se acerca y viaja a una velocidad de 49 km/s"
   ]
  },
  {
   "cell_type": "code",
   "execution_count": 46,
   "metadata": {},
   "outputs": [
    {
     "name": "stdout",
     "output_type": "stream",
     "text": [
      "!!Advertencia peligro de asteroide!!\n"
     ]
    }
   ],
   "source": [
    "aspd = 49\n",
    "if aspd > 25:\n",
    "    (print(\"!!Advertencia peligro de asteroide!!\"))\n",
    "elif aspd <=25: \n",
    "    print (\"No hay peligro de asteroide\")"
   ]
  },
  {
   "cell_type": "markdown",
   "metadata": {},
   "source": [
    "## Si un asteroide entra en la atmosfera de la tierra a una velocidad mayor o igual a 20km/s, a veces produce un rayo de luz que se puede ver desde la Tierra . Uno se dirige ahora a a la tierra a una velocidad de 19 km/s"
   ]
  },
  {
   "cell_type": "code",
   "execution_count": 82,
   "metadata": {},
   "outputs": [
    {
     "name": "stdout",
     "output_type": "stream",
     "text": [
      "Si hay un asteroide en la atmosfera no puede verse ahora\n"
     ]
    }
   ],
   "source": [
    "aspd = 19\n",
    "if aspd > 20:\n",
    "    print (\"Puede verse un asteroide entrando a la tierra\")\n",
    "elif aspd == 20:\n",
    "    print(\"Podria haber un asteroide visible en la atmosfera\")\n",
    "else:\n",
    "    print (\"Si hay un asteroide en la atmosfera no puede verse ahora\")"
   ]
  },
  {
   "cell_type": "markdown",
   "metadata": {},
   "source": [
    "## Ejercio Final"
   ]
  },
  {
   "cell_type": "code",
   "execution_count": 116,
   "metadata": {},
   "outputs": [
    {
     "name": "stdout",
     "output_type": "stream",
     "text": [
      "Las 9 y todo sereno\n"
     ]
    }
   ],
   "source": [
    "aspd = 19\n",
    "aszs = 21\n",
    "if aspd >= 25 or aszs >=25 :\n",
    "    print(\"!!La tierra Peligra usen las capsulas de escape!!\")\n",
    "elif aspd >= 20:\n",
    "    print (\"Se puede ver un asteroide entrando en la atmosfera\")\n",
    "elif aspd <=25 and aszs <=25 :\n",
    "    print(\"Las 9 y todo sereno\")"
   ]
  }
 ],
 "metadata": {
  "interpreter": {
   "hash": "ed86028c4889e1e8139e066bcb506df1762f8a0cda4a8a5552a6193e3c55fb3d"
  },
  "kernelspec": {
   "display_name": "Python 3.10.2 64-bit",
   "language": "python",
   "name": "python3"
  },
  "language_info": {
   "codemirror_mode": {
    "name": "ipython",
    "version": 3
   },
   "file_extension": ".py",
   "mimetype": "text/x-python",
   "name": "python",
   "nbconvert_exporter": "python",
   "pygments_lexer": "ipython3",
   "version": "3.10.2"
  },
  "orig_nbformat": 4
 },
 "nbformat": 4,
 "nbformat_minor": 2
}
