{
 "cells": [
  {
   "cell_type": "markdown",
   "metadata": {},
   "source": [
    "## Ejercicio 1\n"
   ]
  },
  {
   "cell_type": "code",
   "execution_count": 39,
   "metadata": {},
   "outputs": [
    {
     "name": "stdout",
     "output_type": "stream",
     "text": [
      "\"Reporte de combustible:\n",
      "    Promedio total:53.333333333333336%\n",
      "    Tanque1 30%\n",
      "    Tanque2 40%\n",
      "    Tanque3 90%\n",
      "    \n"
     ]
    }
   ],
   "source": [
    "def reporte(tanque1,tanque2,tanque3):\n",
    "    promedio_total =(tanque1+ tanque2 + tanque3) /3\n",
    "    return f\"\"\"\"Reporte de combustible:\n",
    "    Promedio total:{promedio_total}%\n",
    "    Tanque1 {tanque1}%\n",
    "    Tanque2 {tanque2}%\n",
    "    Tanque3 {tanque3}%\n",
    "    \"\"\"\n",
    "\n",
    "print(reporte(30,40,90))\n"
   ]
  },
  {
   "cell_type": "code",
   "execution_count": 40,
   "metadata": {},
   "outputs": [
    {
     "data": {
      "text/plain": [
       "50.0"
      ]
     },
     "execution_count": 40,
     "metadata": {},
     "output_type": "execute_result"
    }
   ],
   "source": [
    "def promedio(valores):\n",
    "    total=sum(valores)\n",
    "    tanques = len(valores)\n",
    "    return total/tanques\n",
    "\n",
    "promedio([20,50,80])"
   ]
  },
  {
   "cell_type": "markdown",
   "metadata": {},
   "source": [
    "Actualizar la funcion"
   ]
  },
  {
   "cell_type": "code",
   "execution_count": 41,
   "metadata": {},
   "outputs": [
    {
     "name": "stdout",
     "output_type": "stream",
     "text": [
      "\"Reporte de combustible:\n",
      "    Promedio total:53.333333333333336%\n",
      "    Tanque1 30%\n",
      "    Tanque2 40%\n",
      "    Tanque3 90%\n",
      "    \n"
     ]
    }
   ],
   "source": [
    "def reporte(tanque1,tanque2,tanque3):\n",
    "    return f\"\"\"\"Reporte de combustible:\n",
    "    Promedio total:{promedio([tanque1,tanque2,tanque3])}%\n",
    "    Tanque1 {tanque1}%\n",
    "    Tanque2 {tanque2}%\n",
    "    Tanque3 {tanque3}%\n",
    "    \"\"\"\n",
    "\n",
    "print(reporte(30,40,90))"
   ]
  },
  {
   "cell_type": "markdown",
   "metadata": {},
   "source": [
    "## Ejercicio 2\n",
    "\n"
   ]
  },
  {
   "cell_type": "code",
   "execution_count": 42,
   "metadata": {},
   "outputs": [
    {
     "name": "stdout",
     "output_type": "stream",
     "text": [
      "Reporte del vuelo:\n",
      "    Preparacion15\n",
      "    Tiempo de Vuelo230\n",
      "    Destino axis nova\n",
      "    Uso de tanque 1 80\n",
      "    Uso de tanque 2 30\n",
      "    \n"
     ]
    }
   ],
   "source": [
    "def bitacora(preparacion,vuelo,destino,tank,tank2):\n",
    "    return f\"\"\"Reporte del vuelo:\n",
    "    Preparacion{preparacion}\n",
    "    Tiempo de Vuelo{vuelo}\n",
    "    Destino {destino}\n",
    "    Uso de tanque 1 {tank}\n",
    "    Uso de tanque 2 {tank2}\n",
    "    \"\"\"\n",
    "\n",
    "print(bitacora(15,230,'axis nova',80,30))"
   ]
  },
  {
   "cell_type": "markdown",
   "metadata": {},
   "source": [
    "Escribir la nueva funcion considerando"
   ]
  },
  {
   "cell_type": "code",
   "execution_count": 43,
   "metadata": {},
   "outputs": [
    {
     "name": "stdout",
     "output_type": "stream",
     "text": [
      "\n",
      "    Mision hacia axis nova\n",
      "    Tiempo total de viaje:175minutos\n",
      "    Combustible restante:5000\n",
      "    \n"
     ]
    }
   ],
   "source": [
    "def bitacora (destino,*minutos,**reservas):\n",
    "    return f\"\"\"\n",
    "    Mision hacia {destino}\n",
    "    Tiempo total de viaje:{sum(minutos)}minutos\n",
    "    Combustible restante:{sum(reservas.values())}\n",
    "    \"\"\"\n",
    "\n",
    "print (bitacora(\"axis nova\",20,15,10,80,50,tank1=2000,tank2=3000))\n"
   ]
  },
  {
   "cell_type": "markdown",
   "metadata": {},
   "source": [
    "Nueva funcion"
   ]
  },
  {
   "cell_type": "code",
   "execution_count": 44,
   "metadata": {},
   "outputs": [
    {
     "name": "stdout",
     "output_type": "stream",
     "text": [
      "\n",
      "    Mision hacia: axis nova\n",
      "    Tiempo total de viaje:175minutos\n",
      "    Combustible restante:5000\n",
      "    \n"
     ]
    }
   ],
   "source": [
    "def bitacora (destino,*minutos,**reservas):\n",
    "    return f\"\"\"\n",
    "    Mision hacia: {destino}\n",
    "    Tiempo total de viaje:{sum(minutos)}minutos\n",
    "    Combustible restante:{sum(reservas.values())}\n",
    "    \"\"\"\n",
    "    for tank_priority,cantidad in reservas.items():\n",
    "        bitacora += f\"{tank_priority} tanque {galones} galones restantes\\n\"\n",
    "        return bitacora\n",
    "\n",
    "print (bitacora(\"axis nova\",20,15,10,80,50,tank1=2000,tank2=3000))"
   ]
  }
 ],
 "metadata": {
  "interpreter": {
   "hash": "ed86028c4889e1e8139e066bcb506df1762f8a0cda4a8a5552a6193e3c55fb3d"
  },
  "kernelspec": {
   "display_name": "Python 3.10.2 64-bit",
   "language": "python",
   "name": "python3"
  },
  "language_info": {
   "codemirror_mode": {
    "name": "ipython",
    "version": 3
   },
   "file_extension": ".py",
   "mimetype": "text/x-python",
   "name": "python",
   "nbconvert_exporter": "python",
   "pygments_lexer": "ipython3",
   "version": "3.10.2"
  },
  "orig_nbformat": 4
 },
 "nbformat": 4,
 "nbformat_minor": 2
}
